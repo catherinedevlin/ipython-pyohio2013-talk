{
 "metadata": {
  "name": ""
 },
 "nbformat": 3,
 "nbformat_minor": 0,
 "worksheets": [
  {
   "cells": [
    {
     "cell_type": "markdown",
     "metadata": {},
     "source": [
      "from [example by Dami\u00e1n Avila](http://nbviewer.ipython.org/5970218)"
     ]
    },
    {
     "cell_type": "code",
     "collapsed": false,
     "input": [
      "from IPython.nbconvert.exporters import RevealExporter\n",
      "from IPython.config import Config\n",
      "from glob import glob\n",
      "\n",
      "from IPython.nbformat import current as nbformat\n",
      "\n",
      "!mkdir -p nbconvert_build\n",
      "reveal_present = !ls nbconvert_build/reveal.js\n",
      "if 'No such file or directory' in reveal_present[0]:\n",
      "    !git clone https://github.com/hakimel/reveal.js.git nbconvert_build/reveal.js\n",
      "    # TODO: write patch to attach .exit_code to the list\n",
      "\n",
      "for infile in glob('*.ipynb'):\n",
      "    if infile != 'make_presentation.ipynb':\n",
      "        print infile\n",
      "        file_name_stem = infile.split('.ipynb')[0]\n",
      "        outfile = 'nbconvert_build/%s.reveal.html' % file_name_stem\n",
      "    \n",
      "        notebook = open(infile).read()\n",
      "        notebook_json = nbformat.reads_json(notebook)\n",
      "        \n",
      "        c = Config({\n",
      "                    'RevealHelpTransformer':{\n",
      "                        'enabled':True,\n",
      "                        'url_prefix':'reveal.js',\n",
      "                        },                \n",
      "                    })\n",
      "        \n",
      "        exportHtml = RevealExporter(config=c)\n",
      "        (body,resources) = exportHtml.from_notebook_node(notebook_json)\n",
      "        \n",
      "        with open(outfile, 'w') as outfile_object:\n",
      "            outfile_object.write(body.encode('utf-8'))"
     ],
     "language": "python",
     "metadata": {},
     "outputs": [
      {
       "output_type": "stream",
       "stream": "stdout",
       "text": [
        "presentation.ipynb\n",
        "demos.ipynb"
       ]
      },
      {
       "output_type": "stream",
       "stream": "stdout",
       "text": [
        "\n"
       ]
      }
     ],
     "prompt_number": 32
    },
    {
     "cell_type": "code",
     "collapsed": false,
     "input": [
      "ls nbconvert_build/reveal.js/"
     ],
     "language": "python",
     "metadata": {},
     "outputs": [
      {
       "output_type": "stream",
       "stream": "stdout",
       "text": [
        "\u001b[0m\u001b[01;34mcss\u001b[0m/       Gruntfile.js  \u001b[01;34mjs\u001b[0m/   LICENSE       \u001b[01;34mplugin\u001b[0m/\r\n",
        "\u001b[01;34mexamples\u001b[0m/  index.html    \u001b[01;34mlib\u001b[0m/  package.json  README.md\r\n"
       ]
      }
     ],
     "prompt_number": 33
    },
    {
     "cell_type": "markdown",
     "metadata": {},
     "source": [
      "Next:\n",
      "    \n",
      "    ./serve.sh\n",
      "    \n",
      "   "
     ]
    },
    {
     "cell_type": "code",
     "collapsed": false,
     "input": [
      "result = !ls nbconvert_build/reveal.js"
     ],
     "language": "python",
     "metadata": {},
     "outputs": [],
     "prompt_number": 23
    },
    {
     "cell_type": "code",
     "collapsed": false,
     "input": [
      "_exit_code"
     ],
     "language": "python",
     "metadata": {},
     "outputs": [
      {
       "metadata": {},
       "output_type": "pyout",
       "prompt_number": 24,
       "text": [
        "0"
       ]
      }
     ],
     "prompt_number": 24
    },
    {
     "cell_type": "code",
     "collapsed": false,
     "input": [
      "result"
     ],
     "language": "python",
     "metadata": {},
     "outputs": [
      {
       "metadata": {},
       "output_type": "pyout",
       "prompt_number": 25,
       "text": [
        "['ls: cannot access nbconvert_build/reveal.js: No such file or directory']"
       ]
      }
     ],
     "prompt_number": 25
    },
    {
     "cell_type": "code",
     "collapsed": false,
     "input": [
      "result.exit_code = 0"
     ],
     "language": "python",
     "metadata": {},
     "outputs": [],
     "prompt_number": 27
    },
    {
     "cell_type": "code",
     "collapsed": false,
     "input": [
      "result.exit_code"
     ],
     "language": "python",
     "metadata": {},
     "outputs": [
      {
       "metadata": {},
       "output_type": "pyout",
       "prompt_number": 28,
       "text": [
        "0"
       ]
      }
     ],
     "prompt_number": 28
    },
    {
     "cell_type": "code",
     "collapsed": false,
     "input": [],
     "language": "python",
     "metadata": {},
     "outputs": []
    }
   ],
   "metadata": {}
  }
 ]
}