{
 "metadata": {
  "name": ""
 },
 "nbformat": 3,
 "nbformat_minor": 0,
 "worksheets": [
  {
   "cells": [
    {
     "cell_type": "markdown",
     "metadata": {},
     "source": [
      "Ordinary presentation production is simple:\n",
      "\n",
      "    ipython nbconvert --format reveal presentation.ipynb\n",
      "    cd nbconvert_build\n",
      "    python -m SimpleHTTPServer 8000 &\n",
      "    \n",
      "... but it relies on getting reveal.js from the CDN, which could be realtime.  This variant uses a local reveal.js.\n",
      "\n",
      "from [example by Dami\u00e1n Avila](http://nbviewer.ipython.org/5970218)"
     ]
    },
    {
     "cell_type": "code",
     "collapsed": false,
     "input": [
      "file_name = 'presentation.ipynb'"
     ],
     "language": "python",
     "metadata": {},
     "outputs": [],
     "prompt_number": 9
    },
    {
     "cell_type": "code",
     "collapsed": false,
     "input": [
      "from IPython.nbconvert.exporters import RevealExporter\n",
      "from IPython.config import Config\n",
      "from glob import glob\n",
      "\n",
      "from IPython.nbformat import current as nbformat\n",
      "\n",
      "reveal_present = !ls reveal.js\n",
      "if 'No such file or directory' in reveal_present[0]:\n",
      "    !git clone https://github.com/hakimel/reveal.js.git reveal.js\n",
      "    # TODO: write patch to attach .exit_code to the list\n",
      "\n",
      "file_name_stem = file_name.split('.ipynb')[0]\n",
      "outfile = '%s.reveal.html' % file_name_stem\n",
      "\n",
      "notebook = open(file_name).read()\n",
      "notebook_json = nbformat.reads_json(notebook)\n",
      "\n",
      "c = Config({\n",
      "            'RevealHelpTransformer':{\n",
      "                'enabled':True,\n",
      "                'url_prefix':'reveal.js',\n",
      "                },            \n",
      "            })\n",
      "\n",
      "exportHtml = RevealExporter(config=c)\n",
      "(body,resources) = exportHtml.from_notebook_node(notebook_json)\n",
      "\n",
      "with open(outfile, 'w') as outfile_object:\n",
      "    outfile_object.write(body.encode('utf-8'))"
     ],
     "language": "python",
     "metadata": {},
     "outputs": [],
     "prompt_number": 10
    },
    {
     "cell_type": "markdown",
     "metadata": {},
     "source": [
      "Next:\n",
      "    \n",
      "    ./serve.sh\n",
      "    \n",
      "   "
     ]
    }
   ],
   "metadata": {}
  }
 ]
}